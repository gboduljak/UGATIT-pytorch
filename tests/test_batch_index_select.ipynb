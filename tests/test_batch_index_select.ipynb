{
 "cells": [
  {
   "cell_type": "code",
   "execution_count": 1,
   "metadata": {},
   "outputs": [],
   "source": [
    "import torch"
   ]
  },
  {
   "cell_type": "code",
   "execution_count": 2,
   "metadata": {},
   "outputs": [],
   "source": [
    "from batch_index_select import *"
   ]
  },
  {
   "cell_type": "markdown",
   "metadata": {},
   "source": [
    "### Quick usage test"
   ]
  },
  {
   "cell_type": "code",
   "execution_count": 3,
   "metadata": {},
   "outputs": [
    {
     "data": {
      "text/plain": [
       "torch.Size([2, 3, 4])"
      ]
     },
     "execution_count": 3,
     "metadata": {},
     "output_type": "execute_result"
    }
   ],
   "source": [
    "x = torch.tensor([\n",
    "    [\n",
    "        [1, 2, 1, 1],\n",
    "        [4, 5, 1, 1],\n",
    "        [7, 8, 1, 1]\n",
    "    ],\n",
    "    [\n",
    "        [10, 11, 0, 0],\n",
    "        [13, 14, 0, 0],\n",
    "        [16, 17, 0, 0]\n",
    "    ]\n",
    "])\n",
    "x.shape"
   ]
  },
  {
   "cell_type": "code",
   "execution_count": 4,
   "metadata": {},
   "outputs": [
    {
     "data": {
      "text/plain": [
       "torch.Size([2, 2])"
      ]
     },
     "execution_count": 4,
     "metadata": {},
     "output_type": "execute_result"
    }
   ],
   "source": [
    "idx = torch.tensor([\n",
    "    [0, 2],\n",
    "    [1, 2]\n",
    "])\n",
    "idx.shape"
   ]
  },
  {
   "cell_type": "code",
   "execution_count": 5,
   "metadata": {},
   "outputs": [
    {
     "data": {
      "text/plain": [
       "tensor([[[ 1,  2,  1,  1],\n",
       "         [ 7,  8,  1,  1]],\n",
       "\n",
       "        [[13, 14,  0,  0],\n",
       "         [16, 17,  0,  0]]])"
      ]
     },
     "execution_count": 5,
     "metadata": {},
     "output_type": "execute_result"
    }
   ],
   "source": [
    "batch_index_select(\n",
    "    x=x,\n",
    "    idx=idx\n",
    ")"
   ]
  },
  {
   "cell_type": "markdown",
   "metadata": {},
   "source": [
    "### Randomized tests"
   ]
  },
  {
   "cell_type": "code",
   "execution_count": 6,
   "metadata": {},
   "outputs": [],
   "source": [
    "batch_size = 1\n",
    "patch_embedding_dim = 256\n",
    "num_patches_per_layer = 256\n",
    "num_patches_to_select = 64"
   ]
  },
  {
   "cell_type": "code",
   "execution_count": 7,
   "metadata": {},
   "outputs": [
    {
     "data": {
      "text/plain": [
       "tensor([[[-0.0339, -1.2891,  0.3094,  ..., -1.1228,  0.3909,  1.6523],\n",
       "         [ 0.1933,  1.2342,  0.7176,  ...,  0.0785, -0.4016,  1.0491],\n",
       "         [-0.4878,  0.5987, -1.5426,  ...,  1.7683, -0.9930,  0.5460],\n",
       "         ...,\n",
       "         [-0.4368, -1.9926, -0.7336,  ..., -0.2809,  0.6574,  0.1650],\n",
       "         [-0.7169,  0.5940, -1.3645,  ...,  0.2376, -0.1195, -1.3433],\n",
       "         [-0.8502, -1.6204, -0.3106,  ..., -0.0919, -1.2947,  0.2784]]])"
      ]
     },
     "execution_count": 7,
     "metadata": {},
     "output_type": "execute_result"
    }
   ],
   "source": [
    "x = torch.randn((batch_size, num_patches_per_layer, patch_embedding_dim))\n",
    "x"
   ]
  },
  {
   "cell_type": "code",
   "execution_count": 8,
   "metadata": {},
   "outputs": [],
   "source": [
    "iters = 1000\n",
    "\n",
    "for _ in range(iters):\n",
    "  select_idx = torch.vstack(\n",
    "      [\n",
    "          torch.multinomial(torch.ones(num_patches_per_layer),\n",
    "                            num_patches_to_select)\n",
    "          for _ in range(1)\n",
    "      ]\n",
    "  )\n",
    "  batch_index_selection = batch_index_select(x, select_idx)\n",
    "\n",
    "  for batch_idx in range(batch_size):\n",
    "    batch_selected_patches = batch_index_selection[batch_idx]\n",
    "    expected_selected_patches = torch.index_select(\n",
    "        input=x[batch_idx],\n",
    "        index=select_idx[batch_idx],\n",
    "        dim=0\n",
    "    )\n",
    "    assert torch.equal(batch_selected_patches, expected_selected_patches)"
   ]
  }
 ],
 "metadata": {
  "kernelspec": {
   "display_name": "UGATIT-pytorch-J5qPllXS",
   "language": "python",
   "name": "python3"
  },
  "language_info": {
   "codemirror_mode": {
    "name": "ipython",
    "version": 3
   },
   "file_extension": ".py",
   "mimetype": "text/x-python",
   "name": "python",
   "nbconvert_exporter": "python",
   "pygments_lexer": "ipython3",
   "version": "3.10.11"
  },
  "orig_nbformat": 4
 },
 "nbformat": 4,
 "nbformat_minor": 2
}
